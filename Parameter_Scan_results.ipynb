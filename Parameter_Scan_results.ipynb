{
 "cells": [
  {
   "cell_type": "code",
   "execution_count": null,
   "metadata": {},
   "outputs": [],
   "source": [
    "# imports of all the functions\n",
    "\n",
    "from helpers import *\n",
    "from visualization import *\n"
   ]
  },
  {
   "cell_type": "markdown",
   "metadata": {},
   "source": [
    "# Parameter Scan on p and d"
   ]
  },
  {
   "cell_type": "code",
   "execution_count": null,
   "metadata": {},
   "outputs": [],
   "source": [
    "\n",
    "# Fixed hyperparameters\n",
    "n = m = 1000\n",
    "lr = 1e-2\n",
    "weight_decay = 1e-5\n",
    "num_epochs = 50\n",
    "reps = 3\n",
    "s=2.0\n",
    "reps = 1  # Number of repetitions\n",
    "device = torch.device(\"cuda\" if torch.cuda.is_available() else \"cpu\")\n",
    "\n",
    "# Values to scan\n",
    "p_values = [0.1, 0.2, 0.5, 0.8, 1.0]\n",
    "d_values = list(range(2, 11, 2))\n",
    "\n",
    "# Run parameter scan\n",
    "results = parameter_scan(n=n, m=m, d=d_values, p=p_values, lr=lr, weight_decay=weight_decay, num_epochs=num_epochs, reps=reps)\n",
    "\n",
    "\n",
    "\n",
    "# Plot losses\n",
    "plot_losses(results)\n",
    "\n",
    "# Plot heatmap for accuracy\n",
    "plot_heatmap_best_fixed(results, param_x='p', param_y='d', result_metric='accuracy')\n",
    "\n",
    "print(\"Parameter scan completed and visualizations generated!\")"
   ]
  }
 ],
 "metadata": {
  "kernelspec": {
   "display_name": "Semester_Project",
   "language": "python",
   "name": "python3"
  },
  "language_info": {
   "codemirror_mode": {
    "name": "ipython",
    "version": 3
   },
   "file_extension": ".py",
   "mimetype": "text/x-python",
   "name": "python",
   "nbconvert_exporter": "python",
   "pygments_lexer": "ipython3",
   "version": "3.9.21"
  }
 },
 "nbformat": 4,
 "nbformat_minor": 2
}
